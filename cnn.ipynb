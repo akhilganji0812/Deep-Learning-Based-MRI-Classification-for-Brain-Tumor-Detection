{
 "cells": [
  {
   "cell_type": "markdown",
   "metadata": {},
   "source": [
    "# Importing Required Libraries"
   ]
  },
  {
   "cell_type": "code",
   "execution_count": 22,
   "metadata": {},
   "outputs": [],
   "source": [
    "# Import necessary libraries\n",
    "import tensorflow as tf\n",
    "from tensorflow.keras.preprocessing.image import ImageDataGenerator"
   ]
  },
  {
   "cell_type": "markdown",
   "metadata": {},
   "source": [
    "# Data Preprocessing and Augmentation"
   ]
  },
  {
   "cell_type": "code",
   "execution_count": 23,
   "metadata": {},
   "outputs": [
    {
     "name": "stdout",
     "output_type": "stream",
     "text": [
      "Found 320 images belonging to 2 classes.\n"
     ]
    }
   ],
   "source": [
    "# Create an ImageDataGenerator object for training with the following augmentations:\n",
    "# - Rescale pixel values to range [0,1] by dividing by 255\n",
    "# - Apply random zoom within a 20% range\n",
    "# - Apply random shear transformations\n",
    "# - Randomly flip images horizontally to increase data variability\n",
    "train_gen = ImageDataGenerator(\n",
    "    rescale=1./255,         # Normalize pixel values\n",
    "    zoom_range=0.2,         # Apply random zoom\n",
    "    shear_range=0.2,        # Apply random shear\n",
    "    horizontal_flip=True    # Random horizontal flip\n",
    ")\n",
    "\n",
    "# Load and preprocess training images from the 'train' directory using the generator:\n",
    "# - Images are resized to 64x64 pixels\n",
    "# - Batch size is set to 32 images per batch\n",
    "# - Binary classification mode since there are two classes (e.g., tumor and no tumor)\n",
    "train_val = train_gen.flow_from_directory(\n",
    "    'train',                  # Path to the training data directory\n",
    "    batch_size=32,            # Number of images per batch\n",
    "    target_size=(64, 64),     # Resize all images to 64x64 pixels\n",
    "    class_mode='binary'       # Use binary labels (0 or 1)\n",
    ")\n"
   ]
  },
  {
   "cell_type": "markdown",
   "metadata": {},
   "source": [
    "# Preparing Test Dataset"
   ]
  },
  {
   "cell_type": "code",
   "execution_count": 24,
   "metadata": {},
   "outputs": [
    {
     "name": "stdout",
     "output_type": "stream",
     "text": [
      "Found 80 images belonging to 2 classes.\n"
     ]
    }
   ],
   "source": [
    "# Create an ImageDataGenerator for test/validation data\n",
    "# Only rescaling is applied (no augmentation for test data)\n",
    "test_gen = ImageDataGenerator(rescale=1./255)  # Normalize pixel values to range [0, 1]\n",
    "\n",
    "# Load and preprocess test images from the 'test' directory using the generator:\n",
    "# - Resize images to 64x64 pixels\n",
    "# - Use a batch size of 32\n",
    "# - Binary class mode since it's a binary classification problem\n",
    "test_val = test_gen.flow_from_directory(\n",
    "    'test',                 # Path to the test data directory\n",
    "    batch_size=32,          # Number of images per batch\n",
    "    target_size=(64, 64),   # Resize all images to 64x64 pixels\n",
    "    class_mode='binary'     # Use binary labels (0 or 1)\n",
    ")"
   ]
  },
  {
   "cell_type": "markdown",
   "metadata": {},
   "source": [
    "# Initializing the CNN Model"
   ]
  },
  {
   "cell_type": "code",
   "execution_count": 25,
   "metadata": {},
   "outputs": [],
   "source": [
    "# Initialize a Sequential model for building the CNN layer by layer\n",
    "cnn=tf.keras.models.Sequential()"
   ]
  },
  {
   "cell_type": "markdown",
   "metadata": {},
   "source": [
    "# Adding the First Convolutional Layer"
   ]
  },
  {
   "cell_type": "code",
   "execution_count": 26,
   "metadata": {},
   "outputs": [
    {
     "name": "stderr",
     "output_type": "stream",
     "text": [
      "/opt/anaconda3/envs/tf_env/lib/python3.10/site-packages/keras/src/layers/convolutional/base_conv.py:113: UserWarning: Do not pass an `input_shape`/`input_dim` argument to a layer. When using Sequential models, prefer using an `Input(shape)` object as the first layer in the model instead.\n",
      "  super().__init__(activity_regularizer=activity_regularizer, **kwargs)\n"
     ]
    }
   ],
   "source": [
    "# Add the first convolutional layer to the CNN model\n",
    "cnn.add(tf.keras.layers.Conv2D(\n",
    "    filters=32,             # Number of filters (feature detectors) to apply\n",
    "    kernel_size=3,          # Size of each filter (3x3)\n",
    "    activation='relu',      # Apply ReLU activation to introduce non-linearity\n",
    "    input_shape=(64,64,3)   # Input image shape: 64x64 pixels with 3 color channels (RGB)\n",
    "))"
   ]
  },
  {
   "cell_type": "markdown",
   "metadata": {},
   "source": [
    "# Adding Max Pooling Layer"
   ]
  },
  {
   "cell_type": "code",
   "execution_count": 27,
   "metadata": {},
   "outputs": [],
   "source": [
    "# Add a Max Pooling layer to reduce spatial dimensions (downsampling)\n",
    "cnn.add(tf.keras.layers.MaxPool2D(\n",
    "    pool_size=2,  # Size of the pooling window (2x2)\n",
    "    strides=2     # Step size for the pooling operation (moves 2 pixels at a time)\n",
    "))"
   ]
  },
  {
   "cell_type": "markdown",
   "metadata": {},
   "source": [
    "# Adding Second Convolutional Layer"
   ]
  },
  {
   "cell_type": "code",
   "execution_count": 28,
   "metadata": {},
   "outputs": [],
   "source": [
    "# Add a second convolutional layer to extract more complex features\n",
    "cnn.add(tf.keras.layers.Conv2D(\n",
    "    filters=32,        # Number of filters (same as first conv layer)\n",
    "    kernel_size=3,     # Size of each filter is 3x3\n",
    "    activation='relu'  # ReLU activation to add non-linearity\n",
    "    # No need to specify input_shape here since it's not the first layer\n",
    "))"
   ]
  },
  {
   "cell_type": "markdown",
   "metadata": {},
   "source": [
    "# Adding Second Max Pooling Layer"
   ]
  },
  {
   "cell_type": "code",
   "execution_count": 29,
   "metadata": {},
   "outputs": [],
   "source": [
    "# Add a second Max Pooling layer to further reduce the spatial size of the feature maps\n",
    "cnn.add(tf.keras.layers.MaxPool2D(\n",
    "    pool_size=2,  # Pooling window size (2x2)\n",
    "    strides=2     # Stride of 2 pixels to move the window\n",
    "))"
   ]
  },
  {
   "cell_type": "markdown",
   "metadata": {},
   "source": [
    "# Flattening the Layers"
   ]
  },
  {
   "cell_type": "code",
   "execution_count": 30,
   "metadata": {},
   "outputs": [],
   "source": [
    "# Flatten the 2D feature maps into a 1D feature vector\n",
    "cnn.add(tf.keras.layers.Flatten())"
   ]
  },
  {
   "cell_type": "markdown",
   "metadata": {},
   "source": [
    "# Adding Fully Connected Layer"
   ]
  },
  {
   "cell_type": "code",
   "execution_count": 31,
   "metadata": {},
   "outputs": [],
   "source": [
    "# Add a fully connected (dense) layer with 132 neurons and ReLU activation\n",
    "cnn.add(tf.keras.layers.Dense(\n",
    "    132,              # Number of neurons in the dense layer\n",
    "    activation='relu' # ReLU activation for non-linearity\n",
    "))"
   ]
  },
  {
   "cell_type": "markdown",
   "metadata": {},
   "source": [
    "# Adding Output Layer"
   ]
  },
  {
   "cell_type": "code",
   "execution_count": 32,
   "metadata": {},
   "outputs": [],
   "source": [
    "# Add the output layer with 1 neuron for binary classification\n",
    "cnn.add(tf.keras.layers.Dense(\n",
    "    1,                # Single neuron for binary output (0 or 1)\n",
    "    activation='sigmoid'  # Sigmoid activation squashes output to range [0,1], giving probability\n",
    "))"
   ]
  },
  {
   "cell_type": "markdown",
   "metadata": {},
   "source": [
    "# Compiling the CNN Model"
   ]
  },
  {
   "cell_type": "code",
   "execution_count": 33,
   "metadata": {},
   "outputs": [],
   "source": [
    "# Compile the CNN model by specifying the optimizer, loss function, and evaluation metric\n",
    "cnn.compile(\n",
    "    optimizer='adam',                  # Adam optimizer for efficient training\n",
    "    loss='binary_crossentropy',        # Loss function suitable for binary classification\n",
    "    metrics=['accuracy']               # Track accuracy during training and evaluation\n",
    ")"
   ]
  },
  {
   "cell_type": "markdown",
   "metadata": {},
   "source": [
    "# Training the CNN Model"
   ]
  },
  {
   "cell_type": "code",
   "execution_count": 34,
   "metadata": {},
   "outputs": [
    {
     "name": "stdout",
     "output_type": "stream",
     "text": [
      "Epoch 1/75\n"
     ]
    },
    {
     "name": "stdout",
     "output_type": "stream",
     "text": [
      "\u001b[1m10/10\u001b[0m \u001b[32m━━━━━━━━━━━━━━━━━━━━\u001b[0m\u001b[37m\u001b[0m \u001b[1m1s\u001b[0m 62ms/step - accuracy: 0.5379 - loss: 0.9666 - val_accuracy: 0.4250 - val_loss: 0.7358\n",
      "Epoch 2/75\n",
      "\u001b[1m10/10\u001b[0m \u001b[32m━━━━━━━━━━━━━━━━━━━━\u001b[0m\u001b[37m\u001b[0m \u001b[1m0s\u001b[0m 44ms/step - accuracy: 0.4933 - loss: 0.6952 - val_accuracy: 0.5750 - val_loss: 0.6873\n",
      "Epoch 3/75\n",
      "\u001b[1m10/10\u001b[0m \u001b[32m━━━━━━━━━━━━━━━━━━━━\u001b[0m\u001b[37m\u001b[0m \u001b[1m0s\u001b[0m 47ms/step - accuracy: 0.6012 - loss: 0.6902 - val_accuracy: 0.5750 - val_loss: 0.7090\n",
      "Epoch 4/75\n",
      "\u001b[1m10/10\u001b[0m \u001b[32m━━━━━━━━━━━━━━━━━━━━\u001b[0m\u001b[37m\u001b[0m \u001b[1m0s\u001b[0m 40ms/step - accuracy: 0.5528 - loss: 0.7049 - val_accuracy: 0.5625 - val_loss: 0.6775\n",
      "Epoch 5/75\n",
      "\u001b[1m10/10\u001b[0m \u001b[32m━━━━━━━━━━━━━━━━━━━━\u001b[0m\u001b[37m\u001b[0m \u001b[1m0s\u001b[0m 43ms/step - accuracy: 0.6014 - loss: 0.6784 - val_accuracy: 0.5625 - val_loss: 0.6752\n",
      "Epoch 6/75\n",
      "\u001b[1m10/10\u001b[0m \u001b[32m━━━━━━━━━━━━━━━━━━━━\u001b[0m\u001b[37m\u001b[0m \u001b[1m0s\u001b[0m 41ms/step - accuracy: 0.5450 - loss: 0.6811 - val_accuracy: 0.5625 - val_loss: 0.6728\n",
      "Epoch 7/75\n",
      "\u001b[1m10/10\u001b[0m \u001b[32m━━━━━━━━━━━━━━━━━━━━\u001b[0m\u001b[37m\u001b[0m \u001b[1m0s\u001b[0m 41ms/step - accuracy: 0.5856 - loss: 0.6789 - val_accuracy: 0.6000 - val_loss: 0.6624\n",
      "Epoch 8/75\n",
      "\u001b[1m10/10\u001b[0m \u001b[32m━━━━━━━━━━━━━━━━━━━━\u001b[0m\u001b[37m\u001b[0m \u001b[1m0s\u001b[0m 41ms/step - accuracy: 0.5916 - loss: 0.6633 - val_accuracy: 0.5875 - val_loss: 0.6605\n",
      "Epoch 9/75\n",
      "\u001b[1m10/10\u001b[0m \u001b[32m━━━━━━━━━━━━━━━━━━━━\u001b[0m\u001b[37m\u001b[0m \u001b[1m0s\u001b[0m 41ms/step - accuracy: 0.5444 - loss: 0.6636 - val_accuracy: 0.6625 - val_loss: 0.6501\n",
      "Epoch 10/75\n",
      "\u001b[1m10/10\u001b[0m \u001b[32m━━━━━━━━━━━━━━━━━━━━\u001b[0m\u001b[37m\u001b[0m \u001b[1m0s\u001b[0m 40ms/step - accuracy: 0.5835 - loss: 0.6607 - val_accuracy: 0.6000 - val_loss: 0.6341\n",
      "Epoch 11/75\n",
      "\u001b[1m10/10\u001b[0m \u001b[32m━━━━━━━━━━━━━━━━━━━━\u001b[0m\u001b[37m\u001b[0m \u001b[1m0s\u001b[0m 41ms/step - accuracy: 0.5958 - loss: 0.6447 - val_accuracy: 0.7125 - val_loss: 0.6052\n",
      "Epoch 12/75\n",
      "\u001b[1m10/10\u001b[0m \u001b[32m━━━━━━━━━━━━━━━━━━━━\u001b[0m\u001b[37m\u001b[0m \u001b[1m0s\u001b[0m 41ms/step - accuracy: 0.6411 - loss: 0.6302 - val_accuracy: 0.7500 - val_loss: 0.5818\n",
      "Epoch 13/75\n",
      "\u001b[1m10/10\u001b[0m \u001b[32m━━━━━━━━━━━━━━━━━━━━\u001b[0m\u001b[37m\u001b[0m \u001b[1m0s\u001b[0m 41ms/step - accuracy: 0.7080 - loss: 0.5962 - val_accuracy: 0.6750 - val_loss: 0.6317\n",
      "Epoch 14/75\n",
      "\u001b[1m10/10\u001b[0m \u001b[32m━━━━━━━━━━━━━━━━━━━━\u001b[0m\u001b[37m\u001b[0m \u001b[1m0s\u001b[0m 40ms/step - accuracy: 0.6734 - loss: 0.5879 - val_accuracy: 0.7750 - val_loss: 0.5391\n",
      "Epoch 15/75\n",
      "\u001b[1m10/10\u001b[0m \u001b[32m━━━━━━━━━━━━━━━━━━━━\u001b[0m\u001b[37m\u001b[0m \u001b[1m0s\u001b[0m 43ms/step - accuracy: 0.7555 - loss: 0.5442 - val_accuracy: 0.7625 - val_loss: 0.5171\n",
      "Epoch 16/75\n",
      "\u001b[1m10/10\u001b[0m \u001b[32m━━━━━━━━━━━━━━━━━━━━\u001b[0m\u001b[37m\u001b[0m \u001b[1m0s\u001b[0m 41ms/step - accuracy: 0.7521 - loss: 0.5399 - val_accuracy: 0.7750 - val_loss: 0.4961\n",
      "Epoch 17/75\n",
      "\u001b[1m10/10\u001b[0m \u001b[32m━━━━━━━━━━━━━━━━━━━━\u001b[0m\u001b[37m\u001b[0m \u001b[1m0s\u001b[0m 41ms/step - accuracy: 0.7991 - loss: 0.4889 - val_accuracy: 0.7625 - val_loss: 0.4575\n",
      "Epoch 18/75\n",
      "\u001b[1m10/10\u001b[0m \u001b[32m━━━━━━━━━━━━━━━━━━━━\u001b[0m\u001b[37m\u001b[0m \u001b[1m0s\u001b[0m 40ms/step - accuracy: 0.7674 - loss: 0.4791 - val_accuracy: 0.7625 - val_loss: 0.4254\n",
      "Epoch 19/75\n",
      "\u001b[1m10/10\u001b[0m \u001b[32m━━━━━━━━━━━━━━━━━━━━\u001b[0m\u001b[37m\u001b[0m \u001b[1m0s\u001b[0m 41ms/step - accuracy: 0.8013 - loss: 0.4658 - val_accuracy: 0.7875 - val_loss: 0.4453\n",
      "Epoch 20/75\n",
      "\u001b[1m10/10\u001b[0m \u001b[32m━━━━━━━━━━━━━━━━━━━━\u001b[0m\u001b[37m\u001b[0m \u001b[1m0s\u001b[0m 40ms/step - accuracy: 0.7838 - loss: 0.4735 - val_accuracy: 0.8250 - val_loss: 0.4132\n",
      "Epoch 21/75\n",
      "\u001b[1m10/10\u001b[0m \u001b[32m━━━━━━━━━━━━━━━━━━━━\u001b[0m\u001b[37m\u001b[0m \u001b[1m0s\u001b[0m 41ms/step - accuracy: 0.7491 - loss: 0.4380 - val_accuracy: 0.8500 - val_loss: 0.3691\n",
      "Epoch 22/75\n",
      "\u001b[1m10/10\u001b[0m \u001b[32m━━━━━━━━━━━━━━━━━━━━\u001b[0m\u001b[37m\u001b[0m \u001b[1m0s\u001b[0m 41ms/step - accuracy: 0.8065 - loss: 0.4376 - val_accuracy: 0.8375 - val_loss: 0.4019\n",
      "Epoch 23/75\n",
      "\u001b[1m10/10\u001b[0m \u001b[32m━━━━━━━━━━━━━━━━━━━━\u001b[0m\u001b[37m\u001b[0m \u001b[1m0s\u001b[0m 40ms/step - accuracy: 0.8106 - loss: 0.4005 - val_accuracy: 0.8000 - val_loss: 0.3839\n",
      "Epoch 24/75\n",
      "\u001b[1m10/10\u001b[0m \u001b[32m━━━━━━━━━━━━━━━━━━━━\u001b[0m\u001b[37m\u001b[0m \u001b[1m0s\u001b[0m 40ms/step - accuracy: 0.8423 - loss: 0.4223 - val_accuracy: 0.8250 - val_loss: 0.3776\n",
      "Epoch 25/75\n",
      "\u001b[1m10/10\u001b[0m \u001b[32m━━━━━━━━━━━━━━━━━━━━\u001b[0m\u001b[37m\u001b[0m \u001b[1m0s\u001b[0m 40ms/step - accuracy: 0.8166 - loss: 0.3747 - val_accuracy: 0.8000 - val_loss: 0.3835\n",
      "Epoch 26/75\n",
      "\u001b[1m10/10\u001b[0m \u001b[32m━━━━━━━━━━━━━━━━━━━━\u001b[0m\u001b[37m\u001b[0m \u001b[1m0s\u001b[0m 40ms/step - accuracy: 0.8498 - loss: 0.3794 - val_accuracy: 0.8125 - val_loss: 0.4176\n",
      "Epoch 27/75\n",
      "\u001b[1m10/10\u001b[0m \u001b[32m━━━━━━━━━━━━━━━━━━━━\u001b[0m\u001b[37m\u001b[0m \u001b[1m0s\u001b[0m 40ms/step - accuracy: 0.8162 - loss: 0.3770 - val_accuracy: 0.8375 - val_loss: 0.3777\n",
      "Epoch 28/75\n",
      "\u001b[1m10/10\u001b[0m \u001b[32m━━━━━━━━━━━━━━━━━━━━\u001b[0m\u001b[37m\u001b[0m \u001b[1m0s\u001b[0m 41ms/step - accuracy: 0.8520 - loss: 0.3400 - val_accuracy: 0.8500 - val_loss: 0.3573\n",
      "Epoch 29/75\n",
      "\u001b[1m10/10\u001b[0m \u001b[32m━━━━━━━━━━━━━━━━━━━━\u001b[0m\u001b[37m\u001b[0m \u001b[1m0s\u001b[0m 41ms/step - accuracy: 0.8236 - loss: 0.3580 - val_accuracy: 0.7750 - val_loss: 0.4555\n",
      "Epoch 30/75\n",
      "\u001b[1m10/10\u001b[0m \u001b[32m━━━━━━━━━━━━━━━━━━━━\u001b[0m\u001b[37m\u001b[0m \u001b[1m0s\u001b[0m 41ms/step - accuracy: 0.8236 - loss: 0.3629 - val_accuracy: 0.8250 - val_loss: 0.3966\n",
      "Epoch 31/75\n",
      "\u001b[1m10/10\u001b[0m \u001b[32m━━━━━━━━━━━━━━━━━━━━\u001b[0m\u001b[37m\u001b[0m \u001b[1m0s\u001b[0m 40ms/step - accuracy: 0.8156 - loss: 0.3708 - val_accuracy: 0.8250 - val_loss: 0.3427\n",
      "Epoch 32/75\n",
      "\u001b[1m10/10\u001b[0m \u001b[32m━━━━━━━━━━━━━━━━━━━━\u001b[0m\u001b[37m\u001b[0m \u001b[1m0s\u001b[0m 47ms/step - accuracy: 0.8448 - loss: 0.3505 - val_accuracy: 0.8250 - val_loss: 0.3444\n",
      "Epoch 33/75\n",
      "\u001b[1m10/10\u001b[0m \u001b[32m━━━━━━━━━━━━━━━━━━━━\u001b[0m\u001b[37m\u001b[0m \u001b[1m0s\u001b[0m 41ms/step - accuracy: 0.8742 - loss: 0.3320 - val_accuracy: 0.8750 - val_loss: 0.3297\n",
      "Epoch 34/75\n",
      "\u001b[1m10/10\u001b[0m \u001b[32m━━━━━━━━━━━━━━━━━━━━\u001b[0m\u001b[37m\u001b[0m \u001b[1m0s\u001b[0m 44ms/step - accuracy: 0.8224 - loss: 0.3140 - val_accuracy: 0.8250 - val_loss: 0.3800\n",
      "Epoch 35/75\n",
      "\u001b[1m10/10\u001b[0m \u001b[32m━━━━━━━━━━━━━━━━━━━━\u001b[0m\u001b[37m\u001b[0m \u001b[1m0s\u001b[0m 43ms/step - accuracy: 0.8875 - loss: 0.3027 - val_accuracy: 0.8250 - val_loss: 0.3632\n",
      "Epoch 36/75\n",
      "\u001b[1m10/10\u001b[0m \u001b[32m━━━━━━━━━━━━━━━━━━━━\u001b[0m\u001b[37m\u001b[0m \u001b[1m0s\u001b[0m 42ms/step - accuracy: 0.8660 - loss: 0.2750 - val_accuracy: 0.8625 - val_loss: 0.3480\n",
      "Epoch 37/75\n",
      "\u001b[1m10/10\u001b[0m \u001b[32m━━━━━━━━━━━━━━━━━━━━\u001b[0m\u001b[37m\u001b[0m \u001b[1m0s\u001b[0m 41ms/step - accuracy: 0.8537 - loss: 0.3158 - val_accuracy: 0.8375 - val_loss: 0.3493\n",
      "Epoch 38/75\n",
      "\u001b[1m10/10\u001b[0m \u001b[32m━━━━━━━━━━━━━━━━━━━━\u001b[0m\u001b[37m\u001b[0m \u001b[1m0s\u001b[0m 40ms/step - accuracy: 0.8767 - loss: 0.2997 - val_accuracy: 0.8625 - val_loss: 0.3065\n",
      "Epoch 39/75\n",
      "\u001b[1m10/10\u001b[0m \u001b[32m━━━━━━━━━━━━━━━━━━━━\u001b[0m\u001b[37m\u001b[0m \u001b[1m0s\u001b[0m 40ms/step - accuracy: 0.8860 - loss: 0.2853 - val_accuracy: 0.8500 - val_loss: 0.3048\n",
      "Epoch 40/75\n",
      "\u001b[1m10/10\u001b[0m \u001b[32m━━━━━━━━━━━━━━━━━━━━\u001b[0m\u001b[37m\u001b[0m \u001b[1m0s\u001b[0m 40ms/step - accuracy: 0.8455 - loss: 0.3048 - val_accuracy: 0.8375 - val_loss: 0.3181\n",
      "Epoch 41/75\n",
      "\u001b[1m10/10\u001b[0m \u001b[32m━━━━━━━━━━━━━━━━━━━━\u001b[0m\u001b[37m\u001b[0m \u001b[1m0s\u001b[0m 41ms/step - accuracy: 0.8620 - loss: 0.3026 - val_accuracy: 0.8750 - val_loss: 0.2958\n",
      "Epoch 42/75\n",
      "\u001b[1m10/10\u001b[0m \u001b[32m━━━━━━━━━━━━━━━━━━━━\u001b[0m\u001b[37m\u001b[0m \u001b[1m0s\u001b[0m 40ms/step - accuracy: 0.8481 - loss: 0.3318 - val_accuracy: 0.8750 - val_loss: 0.2933\n",
      "Epoch 43/75\n",
      "\u001b[1m10/10\u001b[0m \u001b[32m━━━━━━━━━━━━━━━━━━━━\u001b[0m\u001b[37m\u001b[0m \u001b[1m0s\u001b[0m 41ms/step - accuracy: 0.8812 - loss: 0.3005 - val_accuracy: 0.8375 - val_loss: 0.3066\n",
      "Epoch 44/75\n",
      "\u001b[1m10/10\u001b[0m \u001b[32m━━━━━━━━━━━━━━━━━━━━\u001b[0m\u001b[37m\u001b[0m \u001b[1m0s\u001b[0m 41ms/step - accuracy: 0.8556 - loss: 0.2794 - val_accuracy: 0.8625 - val_loss: 0.3101\n",
      "Epoch 45/75\n",
      "\u001b[1m10/10\u001b[0m \u001b[32m━━━━━━━━━━━━━━━━━━━━\u001b[0m\u001b[37m\u001b[0m \u001b[1m0s\u001b[0m 41ms/step - accuracy: 0.8913 - loss: 0.2491 - val_accuracy: 0.8750 - val_loss: 0.2971\n",
      "Epoch 46/75\n",
      "\u001b[1m10/10\u001b[0m \u001b[32m━━━━━━━━━━━━━━━━━━━━\u001b[0m\u001b[37m\u001b[0m \u001b[1m0s\u001b[0m 40ms/step - accuracy: 0.9120 - loss: 0.2136 - val_accuracy: 0.8875 - val_loss: 0.2842\n",
      "Epoch 47/75\n",
      "\u001b[1m10/10\u001b[0m \u001b[32m━━━━━━━━━━━━━━━━━━━━\u001b[0m\u001b[37m\u001b[0m \u001b[1m0s\u001b[0m 43ms/step - accuracy: 0.9304 - loss: 0.2216 - val_accuracy: 0.8375 - val_loss: 0.3427\n",
      "Epoch 48/75\n",
      "\u001b[1m10/10\u001b[0m \u001b[32m━━━━━━━━━━━━━━━━━━━━\u001b[0m\u001b[37m\u001b[0m \u001b[1m0s\u001b[0m 40ms/step - accuracy: 0.8855 - loss: 0.2534 - val_accuracy: 0.8625 - val_loss: 0.3306\n",
      "Epoch 49/75\n",
      "\u001b[1m10/10\u001b[0m \u001b[32m━━━━━━━━━━━━━━━━━━━━\u001b[0m\u001b[37m\u001b[0m \u001b[1m0s\u001b[0m 40ms/step - accuracy: 0.8949 - loss: 0.2393 - val_accuracy: 0.8500 - val_loss: 0.2976\n",
      "Epoch 50/75\n",
      "\u001b[1m10/10\u001b[0m \u001b[32m━━━━━━━━━━━━━━━━━━━━\u001b[0m\u001b[37m\u001b[0m \u001b[1m0s\u001b[0m 41ms/step - accuracy: 0.9164 - loss: 0.2549 - val_accuracy: 0.8625 - val_loss: 0.3142\n",
      "Epoch 51/75\n",
      "\u001b[1m10/10\u001b[0m \u001b[32m━━━━━━━━━━━━━━━━━━━━\u001b[0m\u001b[37m\u001b[0m \u001b[1m0s\u001b[0m 41ms/step - accuracy: 0.9024 - loss: 0.2334 - val_accuracy: 0.8500 - val_loss: 0.3426\n",
      "Epoch 52/75\n",
      "\u001b[1m10/10\u001b[0m \u001b[32m━━━━━━━━━━━━━━━━━━━━\u001b[0m\u001b[37m\u001b[0m \u001b[1m0s\u001b[0m 41ms/step - accuracy: 0.8663 - loss: 0.3016 - val_accuracy: 0.8750 - val_loss: 0.2847\n",
      "Epoch 53/75\n",
      "\u001b[1m10/10\u001b[0m \u001b[32m━━━━━━━━━━━━━━━━━━━━\u001b[0m\u001b[37m\u001b[0m \u001b[1m0s\u001b[0m 41ms/step - accuracy: 0.9364 - loss: 0.1622 - val_accuracy: 0.8375 - val_loss: 0.4151\n",
      "Epoch 54/75\n",
      "\u001b[1m10/10\u001b[0m \u001b[32m━━━━━━━━━━━━━━━━━━━━\u001b[0m\u001b[37m\u001b[0m \u001b[1m0s\u001b[0m 44ms/step - accuracy: 0.9209 - loss: 0.2306 - val_accuracy: 0.8375 - val_loss: 0.3231\n",
      "Epoch 55/75\n",
      "\u001b[1m10/10\u001b[0m \u001b[32m━━━━━━━━━━━━━━━━━━━━\u001b[0m\u001b[37m\u001b[0m \u001b[1m0s\u001b[0m 41ms/step - accuracy: 0.9312 - loss: 0.1843 - val_accuracy: 0.8625 - val_loss: 0.3688\n",
      "Epoch 56/75\n",
      "\u001b[1m10/10\u001b[0m \u001b[32m━━━━━━━━━━━━━━━━━━━━\u001b[0m\u001b[37m\u001b[0m \u001b[1m0s\u001b[0m 44ms/step - accuracy: 0.8912 - loss: 0.2096 - val_accuracy: 0.8125 - val_loss: 0.3847\n",
      "Epoch 57/75\n",
      "\u001b[1m10/10\u001b[0m \u001b[32m━━━━━━━━━━━━━━━━━━━━\u001b[0m\u001b[37m\u001b[0m \u001b[1m0s\u001b[0m 43ms/step - accuracy: 0.9250 - loss: 0.1920 - val_accuracy: 0.8625 - val_loss: 0.2890\n",
      "Epoch 58/75\n",
      "\u001b[1m10/10\u001b[0m \u001b[32m━━━━━━━━━━━━━━━━━━━━\u001b[0m\u001b[37m\u001b[0m \u001b[1m0s\u001b[0m 42ms/step - accuracy: 0.9224 - loss: 0.1766 - val_accuracy: 0.8125 - val_loss: 0.3866\n",
      "Epoch 59/75\n",
      "\u001b[1m10/10\u001b[0m \u001b[32m━━━━━━━━━━━━━━━━━━━━\u001b[0m\u001b[37m\u001b[0m \u001b[1m0s\u001b[0m 42ms/step - accuracy: 0.9090 - loss: 0.2196 - val_accuracy: 0.7875 - val_loss: 0.5510\n",
      "Epoch 60/75\n",
      "\u001b[1m10/10\u001b[0m \u001b[32m━━━━━━━━━━━━━━━━━━━━\u001b[0m\u001b[37m\u001b[0m \u001b[1m0s\u001b[0m 40ms/step - accuracy: 0.8925 - loss: 0.2404 - val_accuracy: 0.8500 - val_loss: 0.2781\n",
      "Epoch 61/75\n",
      "\u001b[1m10/10\u001b[0m \u001b[32m━━━━━━━━━━━━━━━━━━━━\u001b[0m\u001b[37m\u001b[0m \u001b[1m0s\u001b[0m 41ms/step - accuracy: 0.9329 - loss: 0.1889 - val_accuracy: 0.8875 - val_loss: 0.2409\n",
      "Epoch 62/75\n",
      "\u001b[1m10/10\u001b[0m \u001b[32m━━━━━━━━━━━━━━━━━━━━\u001b[0m\u001b[37m\u001b[0m \u001b[1m0s\u001b[0m 41ms/step - accuracy: 0.9228 - loss: 0.1918 - val_accuracy: 0.8125 - val_loss: 0.3694\n",
      "Epoch 63/75\n",
      "\u001b[1m10/10\u001b[0m \u001b[32m━━━━━━━━━━━━━━━━━━━━\u001b[0m\u001b[37m\u001b[0m \u001b[1m0s\u001b[0m 43ms/step - accuracy: 0.9388 - loss: 0.1605 - val_accuracy: 0.8250 - val_loss: 0.3232\n",
      "Epoch 64/75\n",
      "\u001b[1m10/10\u001b[0m \u001b[32m━━━━━━━━━━━━━━━━━━━━\u001b[0m\u001b[37m\u001b[0m \u001b[1m0s\u001b[0m 42ms/step - accuracy: 0.9365 - loss: 0.1595 - val_accuracy: 0.8375 - val_loss: 0.3040\n",
      "Epoch 65/75\n",
      "\u001b[1m10/10\u001b[0m \u001b[32m━━━━━━━━━━━━━━━━━━━━\u001b[0m\u001b[37m\u001b[0m \u001b[1m0s\u001b[0m 42ms/step - accuracy: 0.9133 - loss: 0.2096 - val_accuracy: 0.8750 - val_loss: 0.2937\n",
      "Epoch 66/75\n",
      "\u001b[1m10/10\u001b[0m \u001b[32m━━━━━━━━━━━━━━━━━━━━\u001b[0m\u001b[37m\u001b[0m \u001b[1m0s\u001b[0m 42ms/step - accuracy: 0.9503 - loss: 0.1624 - val_accuracy: 0.8375 - val_loss: 0.3734\n",
      "Epoch 67/75\n",
      "\u001b[1m10/10\u001b[0m \u001b[32m━━━━━━━━━━━━━━━━━━━━\u001b[0m\u001b[37m\u001b[0m \u001b[1m0s\u001b[0m 42ms/step - accuracy: 0.9287 - loss: 0.1547 - val_accuracy: 0.8500 - val_loss: 0.4000\n",
      "Epoch 68/75\n",
      "\u001b[1m10/10\u001b[0m \u001b[32m━━━━━━━━━━━━━━━━━━━━\u001b[0m\u001b[37m\u001b[0m \u001b[1m0s\u001b[0m 40ms/step - accuracy: 0.9492 - loss: 0.1503 - val_accuracy: 0.8500 - val_loss: 0.2384\n",
      "Epoch 69/75\n",
      "\u001b[1m10/10\u001b[0m \u001b[32m━━━━━━━━━━━━━━━━━━━━\u001b[0m\u001b[37m\u001b[0m \u001b[1m0s\u001b[0m 42ms/step - accuracy: 0.8721 - loss: 0.2750 - val_accuracy: 0.8500 - val_loss: 0.2948\n",
      "Epoch 70/75\n",
      "\u001b[1m10/10\u001b[0m \u001b[32m━━━━━━━━━━━━━━━━━━━━\u001b[0m\u001b[37m\u001b[0m \u001b[1m0s\u001b[0m 43ms/step - accuracy: 0.9116 - loss: 0.2081 - val_accuracy: 0.8750 - val_loss: 0.2567\n",
      "Epoch 71/75\n",
      "\u001b[1m10/10\u001b[0m \u001b[32m━━━━━━━━━━━━━━━━━━━━\u001b[0m\u001b[37m\u001b[0m \u001b[1m0s\u001b[0m 42ms/step - accuracy: 0.9411 - loss: 0.1311 - val_accuracy: 0.8125 - val_loss: 0.4571\n",
      "Epoch 72/75\n",
      "\u001b[1m10/10\u001b[0m \u001b[32m━━━━━━━━━━━━━━━━━━━━\u001b[0m\u001b[37m\u001b[0m \u001b[1m0s\u001b[0m 41ms/step - accuracy: 0.9395 - loss: 0.1434 - val_accuracy: 0.8875 - val_loss: 0.2645\n",
      "Epoch 73/75\n",
      "\u001b[1m10/10\u001b[0m \u001b[32m━━━━━━━━━━━━━━━━━━━━\u001b[0m\u001b[37m\u001b[0m \u001b[1m0s\u001b[0m 41ms/step - accuracy: 0.9433 - loss: 0.1475 - val_accuracy: 0.8875 - val_loss: 0.2535\n",
      "Epoch 74/75\n",
      "\u001b[1m10/10\u001b[0m \u001b[32m━━━━━━━━━━━━━━━━━━━━\u001b[0m\u001b[37m\u001b[0m \u001b[1m0s\u001b[0m 42ms/step - accuracy: 0.9579 - loss: 0.1162 - val_accuracy: 0.8875 - val_loss: 0.3382\n",
      "Epoch 75/75\n",
      "\u001b[1m10/10\u001b[0m \u001b[32m━━━━━━━━━━━━━━━━━━━━\u001b[0m\u001b[37m\u001b[0m \u001b[1m0s\u001b[0m 41ms/step - accuracy: 0.9428 - loss: 0.1641 - val_accuracy: 0.8750 - val_loss: 0.4015\n"
     ]
    }
   ],
   "source": [
    "# Train the CNN model on the training data and validate it on test data\n",
    "history=cnn.fit(\n",
    "    x=train_val,                 # Training data generator\n",
    "    validation_data=test_val,    # Validation (test) data generator\n",
    "    batch_size=32,               # Number of samples per gradient update\n",
    "    epochs=75                    # Number of training cycles through the entire dataset\n",
    ")"
   ]
  },
  {
   "cell_type": "markdown",
   "metadata": {},
   "source": [
    "# Viewing Class Indices"
   ]
  },
  {
   "cell_type": "code",
   "execution_count": 35,
   "metadata": {},
   "outputs": [
    {
     "data": {
      "text/plain": [
       "{'Normal': 0, 'Tumor': 1}"
      ]
     },
     "execution_count": 35,
     "metadata": {},
     "output_type": "execute_result"
    }
   ],
   "source": [
    "# View the mapping of class names to numeric labels used by the data generator\n",
    "train_val.class_indices"
   ]
  },
  {
   "cell_type": "markdown",
   "metadata": {},
   "source": [
    "# Preprocessing a New Image for Prediction"
   ]
  },
  {
   "cell_type": "code",
   "execution_count": 36,
   "metadata": {},
   "outputs": [],
   "source": [
    "# Import necessary libraries\n",
    "import numpy as np \n",
    "from tensorflow.keras.preprocessing import image\n",
    "\n",
    "# Prompt the user to enter the path to the image they want to classify\n",
    "file_path = input(\"Enter the file path : \")\n",
    "\n",
    "# Load the image and resize it to 64x64 pixels (same as model's input size)\n",
    "val = image.load_img(file_path, target_size=(64, 64))\n",
    "\n",
    "# Convert the loaded image into a numpy array (so it can be processed by the model)\n",
    "val = image.img_to_array(val)\n",
    "\n",
    "# Expand dimensions to match the model's expected input shape: (1, 64, 64, 3)\n",
    "val = np.expand_dims(val, axis=0)"
   ]
  },
  {
   "cell_type": "markdown",
   "metadata": {},
   "source": [
    "# Making Prediction on New Image"
   ]
  },
  {
   "cell_type": "code",
   "execution_count": 37,
   "metadata": {},
   "outputs": [
    {
     "name": "stdout",
     "output_type": "stream",
     "text": [
      "\u001b[1m1/1\u001b[0m \u001b[32m━━━━━━━━━━━━━━━━━━━━\u001b[0m\u001b[37m\u001b[0m \u001b[1m0s\u001b[0m 69ms/step\n",
      "It is a brain Tumor\n"
     ]
    }
   ],
   "source": [
    "# Use the trained CNN model to predict the class of the input image\n",
    "result = cnn.predict(val)\n",
    "\n",
    "# Check the predicted probability and classify accordingly\n",
    "if result[0][0] == 1:\n",
    "    print(\"It is a brain Tumor\")\n",
    "else:\n",
    "    print(\"It is not a brain Tumor\")"
   ]
  },
  {
   "cell_type": "markdown",
   "metadata": {},
   "source": [
    "# Evaluating the Model on Test Data"
   ]
  },
  {
   "cell_type": "code",
   "execution_count": 38,
   "metadata": {},
   "outputs": [
    {
     "name": "stdout",
     "output_type": "stream",
     "text": [
      "\u001b[1m3/3\u001b[0m \u001b[32m━━━━━━━━━━━━━━━━━━━━\u001b[0m\u001b[37m\u001b[0m \u001b[1m0s\u001b[0m 15ms/step - accuracy: 0.8867 - loss: 0.3874\n",
      "Accuracy of model : 87.5\n"
     ]
    }
   ],
   "source": [
    "# Evaluate the model on the test dataset and get the loss and accuracy\n",
    "loss, accuracy = cnn.evaluate(test_val)\n",
    "\n",
    "# Print the accuracy of the trained model\n",
    "print(\"Accuracy of model :\", accuracy*100)"
   ]
  },
  {
   "cell_type": "markdown",
   "metadata": {},
   "source": [
    "# Plotting Training and Validation Accuracy"
   ]
  },
  {
   "cell_type": "code",
   "execution_count": 40,
   "metadata": {},
   "outputs": [
    {
     "data": {
      "image/png": "[encoded data removed]",
      "text/plain": [
       "<Figure size 1000x500 with 1 Axes>"
      ]
     },
     "metadata": {},
     "output_type": "display_data"
    }
   ],
   "source": [
    "# Import matplotlib for plotting graphs\n",
    "import matplotlib.pyplot as plt\n",
    "\n",
    "# Create a new figure with a specified size\n",
    "plt.figure(figsize=(10, 5))\n",
    "\n",
    "# Plot training accuracy over epochs\n",
    "plt.plot(history.history['accuracy'], label='Training Accuracy', color='blue')\n",
    "\n",
    "# Plot validation accuracy over epochs\n",
    "plt.plot(history.history['val_accuracy'], label='Validation Accuracy', color='green')\n",
    "\n",
    "# Set the title and axis labels\n",
    "plt.title('Model Accuracy Over Epochs')\n",
    "plt.xlabel('Epochs')\n",
    "plt.ylabel('Accuracy')\n",
    "\n",
    "# Add a legend to distinguish between training and validation lines\n",
    "plt.legend()\n",
    "\n",
    "# Add a grid for better readability\n",
    "plt.grid(True)\n",
    "\n",
    "# Display the plot\n",
    "plt.show()"
   ]
  },
  {
   "cell_type": "markdown",
   "metadata": {},
   "source": []
  }
 ],
 "metadata": {
  "kernelspec": {
   "display_name": "tf_env",
   "language": "python",
   "name": "python3"
  },
  "language_info": {
   "codemirror_mode": {
    "name": "ipython",
    "version": 3
   },
   "file_extension": ".py",
   "mimetype": "text/x-python",
   "name": "python",
   "nbconvert_exporter": "python",
   "pygments_lexer": "ipython3",
   "version": "3.10.18"
  }
 },
 "nbformat": 4,
 "nbformat_minor": 2
}
